{
 "cells": [
  {
   "cell_type": "code",
   "execution_count": 24,
   "metadata": {},
   "outputs": [
    {
     "name": "stderr",
     "output_type": "stream",
     "text": [
      "[nltk_data] Downloading package punkt to\n",
      "[nltk_data]     C:\\Users\\Ashish\\AppData\\Roaming\\nltk_data...\n",
      "[nltk_data]   Package punkt is already up-to-date!\n"
     ]
    },
    {
     "data": {
      "text/plain": [
       "True"
      ]
     },
     "execution_count": 24,
     "metadata": {},
     "output_type": "execute_result"
    }
   ],
   "source": [
    "from nltk.tokenize import word_tokenize\n",
    "import nltk\n",
    "nltk.download('punkt')"
   ]
  },
  {
   "cell_type": "code",
   "execution_count": 25,
   "metadata": {},
   "outputs": [],
   "source": [
    "import pandas as pd"
   ]
  },
  {
   "cell_type": "code",
   "execution_count": 26,
   "metadata": {},
   "outputs": [
    {
     "name": "stdout",
     "output_type": "stream",
     "text": [
      "                                            Sentence  Score\n",
      "0  चा फक्त नारा देऊन उपयोग नाही महिला अत्याचाराच्...      1\n",
      "1  पेट्रोल आणि डिझेलवर एक रूपया अधिभार लावल्याने ...     -1\n",
      "2  लूट झूट का राज भागावो रोजगार और विकास लावो हा ...      1\n",
      "3  महाराष्ट्र विकास आघाडी सरकारच्या मंत्रिमंडळ वि...      1\n",
      "4  पिंपरीत अ‍ॅथलेटिक्स आणि विविध क्षेत्रांतल्या ख...      1\n"
     ]
    }
   ],
   "source": [
    "df = pd.read_csv('../data/final_marathi_data.csv')\n",
    "print(df.head())"
   ]
  },
  {
   "cell_type": "code",
   "execution_count": 27,
   "metadata": {
    "vscode": {
     "languageId": "javascript"
    }
   },
   "outputs": [
    {
     "name": "stdout",
     "output_type": "stream",
     "text": [
      "                                            Sentence  Score\n",
      "0  चा फक्त नारा देऊन उपयोग नाही महिला अत्याचाराच्...      1\n",
      "1  पेट्रोल आणि डिझेलवर एक रूपया अधिभार लावल्याने ...     -1\n",
      "2  लूट झूट का राज भागावो रोजगार और विकास लावो हा ...      1\n",
      "3  महाराष्ट्र विकास आघाडी सरकारच्या मंत्रिमंडळ वि...      1\n",
      "4  पिंपरीत अ‍ॅथलेटिक्स आणि विविध क्षेत्रांतल्या ख...      1\n"
     ]
    }
   ],
   "source": [
    "print(df.head())"
   ]
  },
  {
   "cell_type": "code",
   "execution_count": 28,
   "metadata": {
    "vscode": {
     "languageId": "javascript"
    }
   },
   "outputs": [],
   "source": [
    "main_data = df[\"Sentence\"].tolist()"
   ]
  },
  {
   "cell_type": "code",
   "execution_count": 46,
   "metadata": {
    "vscode": {
     "languageId": "javascript"
    }
   },
   "outputs": [
    {
     "data": {
      "text/plain": [
       "<AxesSubplot: xlabel='Score', ylabel='count'>"
      ]
     },
     "execution_count": 46,
     "metadata": {},
     "output_type": "execute_result"
    },
    {
     "data": {
      "image/png": "[encoded data removed]",
      "text/plain": [
       "<Figure size 640x480 with 1 Axes>"
      ]
     },
     "metadata": {},
     "output_type": "display_data"
    }
   ],
   "source": [
    "import seaborn as sns\n",
    "sns.countplot(x='Score', data=df)"
   ]
  },
  {
   "cell_type": "code",
   "execution_count": 29,
   "metadata": {
    "vscode": {
     "languageId": "javascript"
    }
   },
   "outputs": [],
   "source": [
    "from sklearn.feature_extraction.text import TfidfVectorizer\n",
    "from sklearn.linear_model import LogisticRegression\n",
    "from sklearn.neighbors import KNeighborsClassifier\n",
    "from sklearn.ensemble import RandomForestClassifier\n",
    "from sklearn.model_selection import train_test_split\n",
    "from sklearn.ensemble import GradientBoostingClassifier\n",
    "from sklearn.svm import SVC"
   ]
  },
  {
   "cell_type": "code",
   "execution_count": 30,
   "metadata": {
    "vscode": {
     "languageId": "javascript"
    }
   },
   "outputs": [],
   "source": [
    "vectorizer = TfidfVectorizer()\n",
    "X = vectorizer.fit_transform(main_data)"
   ]
  },
  {
   "cell_type": "code",
   "execution_count": 31,
   "metadata": {
    "vscode": {
     "languageId": "javascript"
    }
   },
   "outputs": [],
   "source": [
    "# Split the data into training and test sets\n",
    "X_train, X_test, y_train, y_test = train_test_split(\n",
    "    X, df['Score'], test_size=0.4, random_state=4)"
   ]
  },
  {
   "cell_type": "code",
   "execution_count": 32,
   "metadata": {
    "vscode": {
     "languageId": "javascript"
    }
   },
   "outputs": [
    {
     "name": "stderr",
     "output_type": "stream",
     "text": [
      "c:\\Users\\Ashish\\AppData\\Local\\Programs\\Python\\Python39\\lib\\site-packages\\sklearn\\linear_model\\_logistic.py:458: ConvergenceWarning: lbfgs failed to converge (status=1):\n",
      "STOP: TOTAL NO. of ITERATIONS REACHED LIMIT.\n",
      "\n",
      "Increase the number of iterations (max_iter) or scale the data as shown in:\n",
      "    https://scikit-learn.org/stable/modules/preprocessing.html\n",
      "Please also refer to the documentation for alternative solver options:\n",
      "    https://scikit-learn.org/stable/modules/linear_model.html#logistic-regression\n",
      "  n_iter_i = _check_optimize_result(\n"
     ]
    }
   ],
   "source": [
    "LogReg = LogisticRegression().fit(X_train, y_train)\n",
    "accuracy1 = LogReg.score(X_test, y_test)"
   ]
  },
  {
   "cell_type": "code",
   "execution_count": 33,
   "metadata": {
    "vscode": {
     "languageId": "javascript"
    }
   },
   "outputs": [],
   "source": [
    "RandForest = RandomForestClassifier().fit(X_train, y_train)\n",
    "accuracy2 = RandForest.score(X_test, y_test)"
   ]
  },
  {
   "cell_type": "code",
   "execution_count": 34,
   "metadata": {
    "vscode": {
     "languageId": "javascript"
    }
   },
   "outputs": [],
   "source": [
    "KNeighbors = KNeighborsClassifier(n_neighbors=3).fit(X_train, y_train)\n",
    "accuracy3 = KNeighbors.score(X_test, y_test)"
   ]
  },
  {
   "cell_type": "code",
   "execution_count": 35,
   "metadata": {
    "vscode": {
     "languageId": "javascript"
    }
   },
   "outputs": [],
   "source": [
    "SupportVec = SVC().fit(X_train, y_train)\n",
    "accuracy4 = SupportVec.score(X_test, y_test)"
   ]
  },
  {
   "cell_type": "code",
   "execution_count": null,
   "metadata": {
    "vscode": {
     "languageId": "javascript"
    }
   },
   "outputs": [],
   "source": []
  },
  {
   "cell_type": "code",
   "execution_count": 36,
   "metadata": {
    "vscode": {
     "languageId": "javascript"
    }
   },
   "outputs": [
    {
     "name": "stdout",
     "output_type": "stream",
     "text": [
      "Accuracy 1: 69.6010550609957\n",
      "Accuracy 2: 68.89218595450049\n",
      "Accuracy 3: 45.07088691064952\n",
      "Accuracy 4: 71.01879327398615\n"
     ]
    }
   ],
   "source": [
    "for i in range(1, 5):\n",
    "    print(\"Accuracy {}: {}\".format(i, eval(\"accuracy\" + str(i))*100))"
   ]
  },
  {
   "cell_type": "code",
   "execution_count": 37,
   "metadata": {
    "vscode": {
     "languageId": "javascript"
    }
   },
   "outputs": [],
   "source": [
    "import re\n",
    "import string\n",
    "\n",
    "def clear_text(text):\n",
    "    # List of all English characters and numbers\n",
    "    eng_chars = string.ascii_letters + string.digits\n",
    "\n",
    "    # List of all punctuation characters\n",
    "    punc_chars = string.punctuation\n",
    "\n",
    "    # Combine the two lists\n",
    "    remove_chars = eng_chars + punc_chars\n",
    "\n",
    "    # Remove all characters in the remove_chars list from the text\n",
    "    text = ''.join(c for c in text if c not in remove_chars)\n",
    "\n",
    "    text = re.sub(r'\\s+', ' ', text).strip()\n",
    "\n",
    "    return text"
   ]
  },
  {
   "cell_type": "code",
   "execution_count": 38,
   "metadata": {
    "vscode": {
     "languageId": "javascript"
    }
   },
   "outputs": [],
   "source": [
    "def sentiPrediction(input_data):\n",
    "    input_data = clear_text(input_data)\n",
    "    new_statement = vectorizer.transform([input_data])\n",
    "    prediction = GBC.predict(new_statement)\n",
    "    print(\"The final prediction for the new statement is:\", prediction)\n"
   ]
  },
  {
   "cell_type": "code",
   "execution_count": 39,
   "metadata": {
    "vscode": {
     "languageId": "javascript"
    }
   },
   "outputs": [],
   "source": [
    "#sentiPrediction(input())"
   ]
  },
  {
   "cell_type": "code",
   "execution_count": 40,
   "metadata": {
    "vscode": {
     "languageId": "javascript"
    }
   },
   "outputs": [],
   "source": [
    "import pickle"
   ]
  },
  {
   "cell_type": "code",
   "execution_count": 41,
   "metadata": {
    "vscode": {
     "languageId": "javascript"
    }
   },
   "outputs": [],
   "source": [
    "# Saving the Logistic Regression model\n",
    "with open('LogReg_marathi.pickle', 'wb') as handle:\n",
    "    pickle.dump(LogReg, handle, protocol=pickle.HIGHEST_PROTOCOL)\n",
    "\n",
    "# Saving the Random Forest model\n",
    "with open('RandForest_marathi.pickle', 'wb') as handle:\n",
    "    pickle.dump(RandForest, handle, protocol=pickle.HIGHEST_PROTOCOL)\n",
    "\n",
    "# Saving the KNeighbors model\n",
    "with open('KNeighbors_marathi.pickle', 'wb') as handle:\n",
    "    pickle.dump(KNeighbors, handle, protocol=pickle.HIGHEST_PROTOCOL)\n",
    "\n"
   ]
  },
  {
   "cell_type": "code",
   "execution_count": 42,
   "metadata": {
    "vscode": {
     "languageId": "javascript"
    }
   },
   "outputs": [],
   "source": [
    "# Saving the Support Vector Machine model\n",
    "with open('SupportVec_marathi.pickle', 'wb') as handle:\n",
    "    pickle.dump(SupportVec, handle, protocol=pickle.HIGHEST_PROTOCOL)\n",
    "\n"
   ]
  },
  {
   "cell_type": "code",
   "execution_count": null,
   "metadata": {
    "vscode": {
     "languageId": "javascript"
    }
   },
   "outputs": [],
   "source": []
  },
  {
   "cell_type": "code",
   "execution_count": null,
   "metadata": {
    "vscode": {
     "languageId": "javascript"
    }
   },
   "outputs": [],
   "source": []
  },
  {
   "cell_type": "code",
   "execution_count": 45,
   "metadata": {
    "vscode": {
     "languageId": "javascript"
    }
   },
   "outputs": [],
   "source": [
    "with open(\"vectorizer_marathi.pickle\", \"wb\") as f:\n",
    "    pickle.dump(vectorizer, f)"
   ]
  }
 ],
 "metadata": {
  "kernelspec": {
   "display_name": "Python 3",
   "language": "python",
   "name": "python3"
  },
  "language_info": {
   "codemirror_mode": {
    "name": "ipython",
    "version": 3
   },
   "file_extension": ".py",
   "mimetype": "text/x-python",
   "name": "python",
   "nbconvert_exporter": "python",
   "pygments_lexer": "ipython3",
   "version": "3.9.8"
  },
  "orig_nbformat": 4,
  "vscode": {
   "interpreter": {
    "hash": "84c62ee6248a4e5ebf31bd48a143c192d2ac0bc93e55649f246aaf9958ebedd5"
   }
  }
 },
 "nbformat": 4,
 "nbformat_minor": 2
}
